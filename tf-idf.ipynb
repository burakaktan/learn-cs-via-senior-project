{
 "cells": [
  {
   "cell_type": "markdown",
   "id": "846a4f66",
   "metadata": {},
   "source": [
    "In our project, each document will be SMILES representation of a ligand\n",
    "Words will be chemial words (e.g. \"OH\")\n",
    "\n",
    "For each document (ligand) there will be a tf-idf vector"
   ]
  },
  {
   "cell_type": "code",
   "execution_count": 1,
   "id": "b3416e9c",
   "metadata": {},
   "outputs": [],
   "source": [
    "import numpy as np"
   ]
  },
  {
   "cell_type": "code",
   "execution_count": 2,
   "id": "e5433cc4",
   "metadata": {},
   "outputs": [],
   "source": [
    "def parse_document(doc):\n",
    "    return doc.split()\n",
    "def extract_words(documents):\n",
    "    words = set()\n",
    "    for doc in documents:\n",
    "       for w in parse_document(doc):\n",
    "            words.add(w)\n",
    "    return words"
   ]
  },
  {
   "cell_type": "code",
   "execution_count": 4,
   "id": "e4e18dd7",
   "metadata": {},
   "outputs": [],
   "source": [
    "documents = ['geeks for geeks', 'geeks', 'r2j'] # each ligand is a document\n",
    "documents_parsed = [ parse_document(doc) for doc in documents]\n",
    "words = extract_words(documents)"
   ]
  },
  {
   "cell_type": "code",
   "execution_count": 5,
   "id": "39108e53",
   "metadata": {},
   "outputs": [
    {
     "name": "stdout",
     "output_type": "stream",
     "text": [
      "[1.0986122886681098, 0.0, 1.0986122886681098]\n"
     ]
    }
   ],
   "source": [
    "def idf (word):\n",
    "    no_document = len(documents_parsed)\n",
    "    no_occurred = 0\n",
    "    for doc in documents_parsed:\n",
    "        no_occurred += doc.count(word)\n",
    "    return np.log(no_document/no_occurred)\n",
    "idfs = [idf(word) for word in words]\n",
    "print(idfs)"
   ]
  },
  {
   "cell_type": "code",
   "execution_count": 17,
   "id": "6ccc7fac",
   "metadata": {},
   "outputs": [],
   "source": [
    "def tf (word, document):\n",
    "    return document.count(word) / len(document)\n",
    "    "
   ]
  },
  {
   "cell_type": "code",
   "execution_count": 18,
   "id": "1e8a82f5",
   "metadata": {},
   "outputs": [],
   "source": [
    "vectors_of_documents  = { } # vectors of ligands in our case\n",
    "for d_idx,document in enumerate(documents):\n",
    "    vector = []\n",
    "    document_parsed = documents_parsed[d_idx]\n",
    "    for w_idx,word in enumerate(words):\n",
    "        vector.append( tf(word,document_parsed) * idfs[w_idx])\n",
    "    vectors_of_documents[document] = vector"
   ]
  },
  {
   "cell_type": "code",
   "execution_count": 19,
   "id": "2a83fb67",
   "metadata": {},
   "outputs": [
    {
     "name": "stdout",
     "output_type": "stream",
     "text": [
      "vector of document ( geeks for geeks ) is  [0.0, 0.3662040962227032, 0.0]\n",
      "vector of document ( geeks ) is  [0.0, 0.0, 0.0]\n",
      "vector of document ( r2j ) is  [0.0, 0.0, 1.0986122886681098]\n"
     ]
    }
   ],
   "source": [
    "for document in documents:\n",
    "    print(\"vector of document (\", document, \") is \", vectors_of_documents[document])"
   ]
  },
  {
   "cell_type": "code",
   "execution_count": null,
   "id": "ae4eea2b",
   "metadata": {},
   "outputs": [],
   "source": []
  }
 ],
 "metadata": {
  "kernelspec": {
   "display_name": "Python 3 (ipykernel)",
   "language": "python",
   "name": "python3"
  },
  "language_info": {
   "codemirror_mode": {
    "name": "ipython",
    "version": 3
   },
   "file_extension": ".py",
   "mimetype": "text/x-python",
   "name": "python",
   "nbconvert_exporter": "python",
   "pygments_lexer": "ipython3",
   "version": "3.9.12"
  }
 },
 "nbformat": 4,
 "nbformat_minor": 5
}
