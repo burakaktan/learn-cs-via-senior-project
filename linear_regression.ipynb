{
 "cells": [
  {
   "cell_type": "markdown",
   "id": "8535d0f6",
   "metadata": {},
   "source": [
    "I'm not going to divide data into test and train parts. First, I'll train with all data, then I'will test all data. "
   ]
  },
  {
   "cell_type": "markdown",
   "id": "8e08068b",
   "metadata": {},
   "source": [
    "# Our Implementation From Scratch"
   ]
  },
  {
   "cell_type": "code",
   "execution_count": 22,
   "id": "ec3a2cfd",
   "metadata": {},
   "outputs": [],
   "source": [
    "import matplotlib.pyplot as plt"
   ]
  },
  {
   "cell_type": "code",
   "execution_count": 23,
   "id": "b7a52721",
   "metadata": {},
   "outputs": [],
   "source": [
    "x = [5,7,8,7,2,17,2,9,4,11,12,9,6]\n",
    "y = [99,86,87,88,111,86,103,87,94,78,77,85,86]\n",
    "m = len(x)"
   ]
  },
  {
   "cell_type": "code",
   "execution_count": 24,
   "id": "06d7943e",
   "metadata": {},
   "outputs": [
    {
     "data": {
      "text/plain": [
       "<matplotlib.collections.PathCollection at 0x20a9a50efa0>"
      ]
     },
     "execution_count": 24,
     "metadata": {},
     "output_type": "execute_result"
    },
    {
     "data": {
      "image/png": "[encoded data removed]",
      "text/plain": [
       "<Figure size 432x288 with 1 Axes>"
      ]
     },
     "metadata": {
      "needs_background": "light"
     },
     "output_type": "display_data"
    }
   ],
   "source": [
    "plt.scatter(x,y)"
   ]
  },
  {
   "cell_type": "code",
   "execution_count": 25,
   "id": "b89f9112",
   "metadata": {},
   "outputs": [],
   "source": [
    "w = 1\n",
    "b = 1\n",
    "alpha = 0.01"
   ]
  },
  {
   "cell_type": "code",
   "execution_count": 26,
   "id": "259d8eae",
   "metadata": {},
   "outputs": [],
   "source": [
    "# returns y hat\n",
    "def predict(xi,w,b):\n",
    "    return w*xi + b\n",
    "\n",
    "def calculate_cost(w,b):\n",
    "    global x,m\n",
    "    sum = 0\n",
    "    for i,xi in enumerate(x):\n",
    "        y_hat = predict(xi,w,b)\n",
    "        sum += (y_hat - y[i])**2\n",
    "    return sum  / (2*m)\n",
    "        "
   ]
  },
  {
   "cell_type": "code",
   "execution_count": 27,
   "id": "7d879943",
   "metadata": {},
   "outputs": [],
   "source": [
    "def prt_derivative_of_cost_wrt_w():\n",
    "    global x,y,m\n",
    "    sum = 0\n",
    "    for i,xi in enumerate(x):\n",
    "        y_hat = predict(xi,w,b)\n",
    "        sum += (y_hat - y[i])*xi\n",
    "    return sum  / m\n",
    "def prt_derivative_of_cost_wrt_b():\n",
    "    global x,y,m\n",
    "    sum = 0\n",
    "    for i,xi in enumerate(x):\n",
    "        y_hat = predict(xi,w,b)\n",
    "        sum += y_hat - y[i]\n",
    "    return sum  / m"
   ]
  },
  {
   "cell_type": "code",
   "execution_count": 28,
   "id": "afa4475e",
   "metadata": {},
   "outputs": [
    {
     "name": "stdout",
     "output_type": "stream",
     "text": [
      "before gradient descent, cost function was:  3372.0384615384614\n",
      "after gradient descent, cost function is:  18.19488311541697\n"
     ]
    }
   ],
   "source": [
    "def gradient_descent():\n",
    "    global w,b\n",
    "    # dummy initializations to cost variables\n",
    "    prev_cost = 0\n",
    "    curr_cost = 1\n",
    "    while curr_cost != prev_cost:\n",
    "        prev_cost = calculate_cost(w,b)\n",
    "        temp_w = w - alpha*prt_derivative_of_cost_wrt_w()\n",
    "        temp_b = b - alpha*prt_derivative_of_cost_wrt_b()\n",
    "        w = temp_w\n",
    "        b = temp_b\n",
    "        curr_cost = calculate_cost(w,b)\n",
    "print(\"before gradient descent, cost function was: \", calculate_cost(w,b))\n",
    "gradient_descent()\n",
    "print(\"after gradient descent, cost function is: \", calculate_cost(w,b))"
   ]
  },
  {
   "cell_type": "code",
   "execution_count": 29,
   "id": "d9317bc6",
   "metadata": {},
   "outputs": [
    {
     "data": {
      "image/png": "[encoded data removed]",
      "text/plain": [
       "<Figure size 432x288 with 1 Axes>"
      ]
     },
     "metadata": {
      "needs_background": "light"
     },
     "output_type": "display_data"
    }
   ],
   "source": [
    "line_x = [i for i in range(20)]\n",
    "line_y = [w*point_x+b for point_x in line_x]\n",
    "plt.plot(line_x,line_y)\n",
    "plt.scatter(x,y,color = 'k')\n",
    "plt.show()"
   ]
  },
  {
   "cell_type": "markdown",
   "id": "68b41470",
   "metadata": {},
   "source": [
    "# Implementation Using scikit-learn"
   ]
  },
  {
   "cell_type": "code",
   "execution_count": 10,
   "id": "57c812f4",
   "metadata": {},
   "outputs": [],
   "source": [
    "import numpy as np\n",
    "from sklearn.linear_model import LinearRegression"
   ]
  },
  {
   "cell_type": "code",
   "execution_count": 35,
   "id": "f00aece3",
   "metadata": {},
   "outputs": [
    {
     "name": "stdout",
     "output_type": "stream",
     "text": [
      "[[ 5]\n",
      " [ 7]\n",
      " [ 8]\n",
      " [ 7]\n",
      " [ 2]\n",
      " [17]\n",
      " [ 2]\n",
      " [ 9]\n",
      " [ 4]\n",
      " [11]\n",
      " [12]\n",
      " [ 9]\n",
      " [ 6]]\n"
     ]
    }
   ],
   "source": [
    "X = np.array(x).reshape(-1,1)\n",
    "Y = np.array(y).reshape(-1,1)\n",
    "print(X)"
   ]
  },
  {
   "cell_type": "code",
   "execution_count": 31,
   "id": "7abbb1d1",
   "metadata": {},
   "outputs": [
    {
     "data": {
      "text/plain": [
       "LinearRegression()"
      ]
     },
     "execution_count": 31,
     "metadata": {},
     "output_type": "execute_result"
    }
   ],
   "source": [
    "LR = LinearRegression()\n",
    "LR.fit(X,Y)"
   ]
  },
  {
   "cell_type": "code",
   "execution_count": 32,
   "id": "bea66775",
   "metadata": {},
   "outputs": [
    {
     "data": {
      "text/plain": [
       "<matplotlib.collections.PathCollection at 0x20a9a63d5b0>"
      ]
     },
     "execution_count": 32,
     "metadata": {},
     "output_type": "execute_result"
    },
    {
     "data": {
      "image/png": "[encoded data removed]",
      "text/plain": [
       "<Figure size 432x288 with 1 Axes>"
      ]
     },
     "metadata": {
      "needs_background": "light"
     },
     "output_type": "display_data"
    }
   ],
   "source": [
    "predicted_Y = LR.predict(X)\n",
    "plt.plot(X,predicted_Y)\n",
    "plt.scatter(x,y,color = 'k')"
   ]
  },
  {
   "cell_type": "code",
   "execution_count": 34,
   "id": "529e1a9c",
   "metadata": {},
   "outputs": [
    {
     "name": "stdout",
     "output_type": "stream",
     "text": [
      "<class 'numpy.ndarray'>\n"
     ]
    },
    {
     "data": {
      "text/plain": [
       "array([18.19488312])"
      ]
     },
     "execution_count": 34,
     "metadata": {},
     "output_type": "execute_result"
    }
   ],
   "source": [
    "# let's find the score using our score function\n",
    "sc_w = (predicted_Y[0] - predicted_Y[1]) / (X[0] - X[1])\n",
    "sc_b = predicted_Y[0] - X[0]*sc_w\n",
    "calculate_cost(sc_w,sc_b)"
   ]
  },
  {
   "cell_type": "markdown",
   "id": "c92831dd",
   "metadata": {},
   "source": [
    "# Cost function values of scikit learn's and our implementations are exactly the same"
   ]
  }
 ],
 "metadata": {
  "kernelspec": {
   "display_name": "Python 3 (ipykernel)",
   "language": "python",
   "name": "python3"
  },
  "language_info": {
   "codemirror_mode": {
    "name": "ipython",
    "version": 3
   },
   "file_extension": ".py",
   "mimetype": "text/x-python",
   "name": "python",
   "nbconvert_exporter": "python",
   "pygments_lexer": "ipython3",
   "version": "3.9.12"
  }
 },
 "nbformat": 4,
 "nbformat_minor": 5
}
