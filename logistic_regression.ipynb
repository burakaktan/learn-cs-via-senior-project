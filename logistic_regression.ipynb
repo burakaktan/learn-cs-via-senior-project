{
 "cells": [
  {
   "cell_type": "code",
   "execution_count": 96,
   "id": "bd12b2aa",
   "metadata": {},
   "outputs": [],
   "source": [
    "import numpy as np\n",
    "import matplotlib.pyplot as plt"
   ]
  },
  {
   "cell_type": "markdown",
   "id": "c71c87e8",
   "metadata": {},
   "source": [
    "Let's first start with implementing and plotting the sigmoid function."
   ]
  },
  {
   "cell_type": "code",
   "execution_count": 97,
   "id": "87570493",
   "metadata": {},
   "outputs": [
    {
     "data": {
      "image/png": "[encoded data removed]",
      "text/plain": [
       "<Figure size 432x288 with 1 Axes>"
      ]
     },
     "metadata": {
      "needs_background": "light"
     },
     "output_type": "display_data"
    }
   ],
   "source": [
    "def sigmoid(z):\n",
    "    return 1/(1 + np.exp(-z))\n",
    "x = np.linspace(-10.0, 10.0, num=5000)\n",
    "y = np.array([sigmoid(xi) for xi in x])\n",
    "plt.title(\"Sigmoid function\")\n",
    "plt.plot(x,y)\n",
    "plt.show()"
   ]
  },
  {
   "cell_type": "code",
   "execution_count": 98,
   "id": "0b687089",
   "metadata": {},
   "outputs": [],
   "source": [
    "# what the difference between loss and cost?\n",
    "# Loss is calculated for one estimated-real value pair\n",
    "# Cost is average of all losses\n",
    "def loss(y_est,y):\n",
    "    return -y * np.log(y_est) - (1-y) * np.log(1-y_est)\n",
    "def cost(y_est_arr,y_arr):\n",
    "    ans = 0\n",
    "    for yi_est,yi in zip(y_est_arr,y_arr):\n",
    "        ans += loss(yi_est,yi)\n",
    "    ans /= len(y_arr)\n",
    "    return ans"
   ]
  },
  {
   "cell_type": "code",
   "execution_count": 99,
   "id": "0a6a76b4",
   "metadata": {},
   "outputs": [],
   "source": [
    "def predict_binary(x,w,b):\n",
    "    num = sigmoid(w*x+b)\n",
    "    if num >= 0.5:\n",
    "        return 1\n",
    "    return 0\n",
    "def predict_float(x,w,b):\n",
    "    return sigmoid(w*x+b)"
   ]
  },
  {
   "cell_type": "code",
   "execution_count": 100,
   "id": "deba4f3d",
   "metadata": {},
   "outputs": [],
   "source": [
    "def prt_derivative_loss_wrt_w(x,y,y_est):\n",
    "    return (y_est-y)*x\n",
    "def prt_derivative_cost_wrt_w(x,y,y_est):\n",
    "    sum = 0\n",
    "    for xi,yi,yi_est in zip(x,y,y_est):\n",
    "        sum += prt_derivative_loss_wrt_w(xi,yi,yi_est)\n",
    "    return sum / len(x)\n",
    "def prt_derivative_loss_wrt_b(y,y_est):\n",
    "    return (y_est-y)\n",
    "def prt_derivative_cost_wrt_b(x,y,y_est):\n",
    "    sum = 0\n",
    "    for xi,yi,yi_est in zip(x,y,y_est):\n",
    "        sum += prt_derivative_loss_wrt_b(yi,yi_est)\n",
    "    return sum / len(x)"
   ]
  },
  {
   "cell_type": "code",
   "execution_count": 101,
   "id": "3dc5544e",
   "metadata": {},
   "outputs": [],
   "source": [
    "x = np.linspace(0.5,5.5,num = 20)\n",
    "y = np.array([0,0,0,0,0,0,1,0,1,0,1,0,1,0,1,1,1,1,1,1])\n",
    "w = -1\n",
    "b = -1\n",
    "alpha = 0.01"
   ]
  },
  {
   "cell_type": "code",
   "execution_count": 102,
   "id": "9d9186b1",
   "metadata": {},
   "outputs": [
    {
     "name": "stdout",
     "output_type": "stream",
     "text": [
      "cost before starting:  2.571539972951085\n",
      "cost after end:  0.3998263645808232\n",
      "w is  1.440790113752758\n",
      "b is  -4.322369218698106\n"
     ]
    }
   ],
   "source": [
    "def gradient_descent(x,y,w,b,alpha):\n",
    "    prev_c = 10**10\n",
    "    curr_c = cost([predict_float(xi,w,b) for xi in x],y)\n",
    "    print(\"cost before starting: \",curr_c)\n",
    "    while prev_c != curr_c:\n",
    "        y_est = [predict_float(xi,w,b) for xi in x]\n",
    "        prev_c = cost(y_est,y)\n",
    "        tmp_w = w - alpha*prt_derivative_cost_wrt_w(x,y,y_est)\n",
    "        tmp_b = b - alpha*prt_derivative_cost_wrt_b(x,y,y_est)\n",
    "        w = tmp_w\n",
    "        b = tmp_b\n",
    "        curr_c = cost([predict_float(xi,w,b) for xi in x],y)\n",
    "    print(\"cost after end: \", curr_c)\n",
    "    return [w,b]\n",
    "[w,b] = gradient_descent(x,y,w,b,alpha)\n",
    "print(\"w is \", w)\n",
    "print(\"b is \",b)"
   ]
  },
  {
   "cell_type": "code",
   "execution_count": 106,
   "id": "f0158d81",
   "metadata": {},
   "outputs": [],
   "source": [
    "y_est = [predict_binary(xi,w,b) for xi in x]\n",
    "predicted_true = []\n",
    "predicted_false = []\n",
    "true_values_of_false_predictions = []\n",
    "for xi,yi_est, yi in zip(x,y_est,y):\n",
    "    if yi_est == yi:\n",
    "        predicted_true.append(xi)\n",
    "    else:\n",
    "        predicted_false.append(xi)\n",
    "        true_values_of_false_predictions.append(yi)\n",
    "        "
   ]
  },
  {
   "cell_type": "code",
   "execution_count": 107,
   "id": "8069ee8e",
   "metadata": {},
   "outputs": [
    {
     "data": {
      "image/png": "[encoded data removed]",
      "text/plain": [
       "<Figure size 432x288 with 1 Axes>"
      ]
     },
     "metadata": {
      "needs_background": "light"
     },
     "output_type": "display_data"
    }
   ],
   "source": [
    "plt.scatter(predicted_false,[predict_binary(xi,w,b) for xi in predicted_false],color='r')\n",
    "plt.scatter(predicted_false,true_values_of_false_predictions,color='b')\n",
    "plt.scatter(predicted_true,[predict_binary(xi,w,b) for xi in predicted_true],color = 'g')\n",
    "plt.show()"
   ]
  },
  {
   "cell_type": "markdown",
   "id": "1375d41d",
   "metadata": {},
   "source": [
    "Greens are correct predictions, reds are false predictions. Blues are real values for false predictions."
   ]
  }
 ],
 "metadata": {
  "kernelspec": {
   "display_name": "Python 3 (ipykernel)",
   "language": "python",
   "name": "python3"
  },
  "language_info": {
   "codemirror_mode": {
    "name": "ipython",
    "version": 3
   },
   "file_extension": ".py",
   "mimetype": "text/x-python",
   "name": "python",
   "nbconvert_exporter": "python",
   "pygments_lexer": "ipython3",
   "version": "3.9.12"
  }
 },
 "nbformat": 4,
 "nbformat_minor": 5
}
